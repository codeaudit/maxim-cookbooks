{
 "cells": [
  {
   "cell_type": "markdown",
   "metadata": {},
   "source": [
    "## Proxy prompts using Maxim Bifrost\n",
    "\n",
    "In this cookbook, we will see, how you can start using Maxim's Bifrost, AI Gateway to use a consistent interface to query all the models configured on Maxim dashboard."
   ]
  },
  {
   "cell_type": "code",
   "execution_count": 1,
   "metadata": {},
   "outputs": [],
   "source": [
    "import os\n",
    "\n",
    "# get environment variables\n",
    "api_key = os.environ[\"MAXIM_API_KEY\"]"
   ]
  },
  {
   "cell_type": "markdown",
   "metadata": {},
   "source": [
    "### Initialize Maxim SDK"
   ]
  },
  {
   "cell_type": "code",
   "execution_count": 2,
   "metadata": {},
   "outputs": [],
   "source": [
    "from maxim import Config, Maxim\n",
    "\n",
    "# setting up maxim\n",
    "config = Config(api_key=api_key, prompt_management=True)\n",
    "maxim = Maxim(config=config)"
   ]
  },
  {
   "cell_type": "markdown",
   "metadata": {},
   "source": [
    "## Get chat completion"
   ]
  },
  {
   "cell_type": "code",
   "execution_count": 3,
   "metadata": {},
   "outputs": [
    {
     "name": "stdout",
     "output_type": "stream",
     "text": [
      "[Choice(index=0, message=Message(role='assistant', content='The capital of France is Paris.', tool_calls=None), finish_reason='stop')]\n"
     ]
    }
   ],
   "source": [
    "response = maxim.chat_completion(\"openai/gpt-4o\",[{\n",
    "    \"role\": \"system\",\n",
    "    \"content\": \"You are a helpful assistant\"\n",
    "},{\n",
    "    \"role\": \"user\",\n",
    "    \"content\": \"What is the capital of France?\"\n",
    "}],None,temperature=0.5)\n",
    "print(response.choices)"
   ]
  }
 ],
 "metadata": {
  "kernelspec": {
   "display_name": ".venv",
   "language": "python",
   "name": "python3"
  },
  "language_info": {
   "codemirror_mode": {
    "name": "ipython",
    "version": 3
   },
   "file_extension": ".py",
   "mimetype": "text/x-python",
   "name": "python",
   "nbconvert_exporter": "python",
   "pygments_lexer": "ipython3",
   "version": "3.12.8"
  }
 },
 "nbformat": 4,
 "nbformat_minor": 2
}
